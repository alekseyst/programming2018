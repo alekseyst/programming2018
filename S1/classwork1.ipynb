{
 "cells": [
  {
   "cell_type": "code",
   "execution_count": 17,
   "metadata": {},
   "outputs": [],
   "source": [
    "import collections"
   ]
  },
  {
   "cell_type": "code",
   "execution_count": 39,
   "metadata": {},
   "outputs": [],
   "source": [
    "def count(fname):\n",
    "    with open(fname) as f:\n",
    "       words = f.read().lower().split()\n",
    "    f_list = collections.Counter(words)\n",
    "    return [f_list_cut for f_list_cut in collections.Counter.most_common(f_list) if f_list_cut[1] > 2]"
   ]
  },
  {
   "cell_type": "code",
   "execution_count": 40,
   "metadata": {},
   "outputs": [
    {
     "name": "stdout",
     "output_type": "stream",
     "text": [
      "[('на', 9), ('и', 8), ('не', 7), ('в', 6), ('с', 3), ('я', 3), ('мне', 3), ('это', 3)]\n"
     ]
    }
   ],
   "source": [
    "print(count('random_poem.txt'))"
   ]
  }
 ],
 "metadata": {
  "kernelspec": {
   "display_name": "Python 3",
   "language": "python",
   "name": "python3"
  },
  "language_info": {
   "codemirror_mode": {
    "name": "ipython",
    "version": 3
   },
   "file_extension": ".py",
   "mimetype": "text/x-python",
   "name": "python",
   "nbconvert_exporter": "python",
   "pygments_lexer": "ipython3",
   "version": "3.6.2"
  }
 },
 "nbformat": 4,
 "nbformat_minor": 2
}
