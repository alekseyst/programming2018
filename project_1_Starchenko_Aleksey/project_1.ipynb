{
 "cells": [
  {
   "cell_type": "code",
   "execution_count": null,
   "metadata": {},
   "outputs": [],
   "source": [
    "'''Внимание, в программе обращения к mystem составлены для операционной системы Linux.\n",
    "Если программа не размечает файлы — исправьте соответствующие запросы или запустите программу на Linux.\n",
    "\n",
    "В папке с программой должен содержаться mystem.\n",
    "Кроме того, для корректной работы программы долна быть установлена сторонняя библиотека bs4.'''"
   ]
  },
  {
   "cell_type": "code",
   "execution_count": null,
   "metadata": {},
   "outputs": [],
   "source": [
    "import urllib.request\n",
    "import bs4\n",
    "import os\n",
    "import shutil"
   ]
  },
  {
   "cell_type": "code",
   "execution_count": null,
   "metadata": {},
   "outputs": [],
   "source": [
    "def get_pages():\n",
    "    for a in range(10000, 22930, 10):\n",
    "        url = 'https://moe-online.ru/news/society/10%d' % a\n",
    "        req = urllib.request.Request(url)\n",
    "        try:\n",
    "            with urllib.request.urlopen(req) as response:\n",
    "               page = response.read().decode('utf-8')\n",
    "        except urllib.error.HTTPError:\n",
    "            continue\n",
    "        if 'Ошибка 404' in page:\n",
    "            continue\n",
    "        yield page, url\n",
    "\n",
    "def read_page(page):\n",
    "    tree = bs4.BeautifulSoup(page,'html.parser')\n",
    "    scripts = tree.findAll('script')\n",
    "    [script.extract() for script in scripts]\n",
    "    st_name = tree.find_all('h1', {'class': 'st-name'})[0].get_text()\n",
    "    date = tree.find_all('span', {'class': 'time'})[0].get_text()[:10]\n",
    "    cat = tree.find_all('a', {'class': 'rubrika more_screen'})[0].get_text()\n",
    "    text = tree.find_all('div', {'class': 'font_os app_in_text'})[0].get_text().replace(u'\\xa0', u' ')\n",
    "    return st_name.strip(), date, cat, text\n",
    "\n",
    "def create_path(date, counter, path_type):\n",
    "    path = os.path.join('газеты', path_type, date[6:10], date[3:5])\n",
    "    if not os.path.exists(path):\n",
    "        os.makedirs(path)\n",
    "        counter = 0\n",
    "    path = os.path.join(path, str(counter) + '.txt')\n",
    "    return path, counter\n",
    "\n",
    "def write_plain(counter, url, st_name, date, cat, text):\n",
    "    path, counter = create_path(date, counter, 'plain')    \n",
    "    with open(path, 'w', encoding='utf-8') as f:\n",
    "        f.write('@au Noname\\n@ti %s\\n@da %s\\n@topic %s\\n@url %s\\n%s' % (st_name, date, cat, url, text))\n",
    "    return counter\n",
    "        \n",
    "def write_mystem_xml(counter, date):\n",
    "    path, counter = create_path(date, counter, 'mystem-xml') \n",
    "    os.system('./mystem -id --format xml tmp.txt ' + path)\n",
    "    return counter\n",
    "\n",
    "def write_mystem_plain(counter, date):\n",
    "    path, counter = create_path(date, counter, 'mystem-plain') \n",
    "    os.system('./mystem -id tmp.txt ' + path)\n",
    "    return counter\n",
    "    \n",
    "def csv_string(counter, url, st_name, date, cat, text):\n",
    "    path, counter = create_path(date, counter, 'plain')    \n",
    "    feature_list = [path, '', '', '', st_name, date, 'публицистика', '',\n",
    "                    '', cat, '', 'нейтральный', 'н-возраст', 'н-уровень', 'городская', url, 'МОЁ! Online', '', \n",
    "                    date[6:10], 'газета', 'Россия', 'Воронежская область', 'ru']\n",
    "    return '\\t'.join(feature_list), counter\n",
    "    \n",
    "def main():\n",
    "    if os.path.exists('газеты'):\n",
    "        shutil.rmtree('газеты')\n",
    "    counter = 0\n",
    "    os.makedirs('газеты')\n",
    "    with open(os.path.join('газеты', 'metadata.csv'), 'w', encoding='utf-8') as csv:\n",
    "        for page, url in get_pages():\n",
    "            st_name, date, cat, text = read_page(page)\n",
    "\n",
    "            string, counter = csv_string(counter, url, st_name, date, cat, text)\n",
    "            csv.write(string +'\\n')\n",
    "\n",
    "            with open('tmp.txt', 'w', encoding='utf-8') as tmp:\n",
    "                tmp.write(text)\n",
    "\n",
    "            counter = write_plain(counter, url, st_name, date, cat, text)\n",
    "            counter = write_mystem_plain(counter, date)\n",
    "            counter = write_mystem_xml(counter, date)\n",
    "\n",
    "            counter += 1\n",
    "    os.remove('tmp.txt')"
   ]
  },
  {
   "cell_type": "code",
   "execution_count": null,
   "metadata": {},
   "outputs": [],
   "source": [
    "main()"
   ]
  },
  {
   "cell_type": "code",
   "execution_count": null,
   "metadata": {},
   "outputs": [],
   "source": []
  }
 ],
 "metadata": {
  "kernelspec": {
   "display_name": "Python 3",
   "language": "python",
   "name": "python3"
  },
  "language_info": {
   "codemirror_mode": {
    "name": "ipython",
    "version": 3
   },
   "file_extension": ".py",
   "mimetype": "text/x-python",
   "name": "python",
   "nbconvert_exporter": "python",
   "pygments_lexer": "ipython3",
   "version": "3.6.2"
  }
 },
 "nbformat": 4,
 "nbformat_minor": 2
}
